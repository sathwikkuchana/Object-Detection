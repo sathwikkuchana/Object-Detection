{
  "nbformat": 4,
  "nbformat_minor": 0,
  "metadata": {
    "accelerator": "TPU",
    "colab": {
      "provenance": []
    },
    "kernelspec": {
      "display_name": "Python 3",
      "name": "python3"
    },
    "language_info": {
      "codemirror_mode": {
        "name": "ipython",
        "version": 3
      },
      "file_extension": ".py",
      "mimetype": "text/x-python",
      "name": "python",
      "nbconvert_exporter": "python",
      "pygments_lexer": "ipython3",
      "version": "3.7.4"
    }
  },
  "cells": [
    {
      "cell_type": "markdown",
      "metadata": {
        "id": "KsjDCIat6_UK"
      },
      "source": [
        "# Image Classification and Object Localization\n",
        "\n",
        "build a CNN from scratch to:\n",
        "- classify the main subject in an image\n",
        "- localize it by drawing bounding boxes around it.\n",
        "\n",
        "You'll use the [MNIST](http://yann.lecun.com/exdb/mnist/) dataset to synthesize a custom dataset for the task:\n",
        "- Place each \"digit\" image on a black canvas of width 75 x 75 at random locations.\n",
        "- Calculate the corresponding bounding boxes for those \"digits\".\n",
        "\n",
        "The bounding box prediction can be modelled as a \"regression\" task, which means that the model will predict a numeric value (as opposed to a category)."
      ]
    },
    {
      "cell_type": "markdown",
      "metadata": {
        "id": "qpiJj8ym0v0-"
      },
      "source": [
        "## Imports"
      ]
    },
    {
      "cell_type": "code",
      "metadata": {
        "id": "AoilhmYe1b5t",
        "colab": {
          "base_uri": "https://localhost:8080/"
        },
        "outputId": "22ec0ea1-863e-419a-d76d-ab98010f0e51"
      },
      "source": [
        "import os, re, time, json\n",
        "import PIL.Image, PIL.ImageFont, PIL.ImageDraw\n",
        "import numpy as np\n",
        "try:\n",
        "  # %tensorflow_version only exists in Colab.\n",
        "  %tensorflow_version 2.x\n",
        "except Exception:\n",
        "  pass\n",
        "import tensorflow as tf\n",
        "from matplotlib import pyplot as plt\n",
        "import tensorflow_datasets as tfds\n",
        "\n",
        "print(\"Tensorflow version \" + tf.__version__)"
      ],
      "execution_count": 1,
      "outputs": [
        {
          "output_type": "stream",
          "name": "stdout",
          "text": [
            "Colab only includes TensorFlow 2.x; %tensorflow_version has no effect.\n",
            "Tensorflow version 2.12.0\n"
          ]
        }
      ]
    },
    {
      "cell_type": "markdown",
      "metadata": {
        "id": "xmoFKEd98MP3"
      },
      "source": [
        "# Visualization Utilities\n",
        "\n",
        "These functions are used to draw bounding boxes around the digits."
      ]
    },
    {
      "cell_type": "code",
      "metadata": {
        "id": "tBjj1Fg-i_lc"
      },
      "source": [
        "#@title Plot Utilities for Bounding Boxes [RUN ME]\n",
        "\n",
        "im_width = 75\n",
        "im_height = 75\n",
        "use_normalized_coordinates = True\n",
        "\n",
        "def draw_bounding_boxes_on_image_array(image,\n",
        "                                       boxes,\n",
        "                                       color=[],\n",
        "                                       thickness=1,\n",
        "                                       display_str_list=()):\n",
        "\n",
        "  image_pil = PIL.Image.fromarray(image)\n",
        "  rgbimg = PIL.Image.new(\"RGBA\", image_pil.size)\n",
        "  rgbimg.paste(image_pil)\n",
        "  draw_bounding_boxes_on_image(rgbimg, boxes, color, thickness,\n",
        "                               display_str_list)\n",
        "  return np.array(rgbimg)\n",
        "\n",
        "\n",
        "def draw_bounding_boxes_on_image(image,\n",
        "                                 boxes,\n",
        "                                 color=[],\n",
        "                                 thickness=1,\n",
        "                                 display_str_list=()):\n",
        "\n",
        "  boxes_shape = boxes.shape\n",
        "  if not boxes_shape:\n",
        "    return\n",
        "  if len(boxes_shape) != 2 or boxes_shape[1] != 4:\n",
        "    raise ValueError('Input must be of size [N, 4]')\n",
        "  for i in range(boxes_shape[0]):\n",
        "    draw_bounding_box_on_image(image, boxes[i, 1], boxes[i, 0], boxes[i, 3],\n",
        "                               boxes[i, 2], color[i], thickness, display_str_list[i])\n",
        "\n",
        "def draw_bounding_box_on_image(image,\n",
        "                               ymin,\n",
        "                               xmin,\n",
        "                               ymax,\n",
        "                               xmax,\n",
        "                               color='red',\n",
        "                               thickness=1,\n",
        "                               display_str=None,\n",
        "                               use_normalized_coordinates=True):\n",
        "\n",
        "  draw = PIL.ImageDraw.Draw(image)\n",
        "  im_width, im_height = image.size\n",
        "  if use_normalized_coordinates:\n",
        "    (left, right, top, bottom) = (xmin * im_width, xmax * im_width,\n",
        "                                  ymin * im_height, ymax * im_height)\n",
        "  else:\n",
        "    (left, right, top, bottom) = (xmin, xmax, ymin, ymax)\n",
        "  draw.line([(left, top), (left, bottom), (right, bottom),\n",
        "             (right, top), (left, top)], width=thickness, fill=color)\n",
        "\n"
      ],
      "execution_count": 2,
      "outputs": []
    },
    {
      "cell_type": "markdown",
      "metadata": {
        "id": "USx9tRBF8hWy"
      },
      "source": [
        "These utilities are used to visualize the data and predictions."
      ]
    },
    {
      "cell_type": "code",
      "metadata": {
        "id": "qhdz68Xm3Z4Z"
      },
      "source": [
        "\n",
        "\n",
        "# Matplotlib config\n",
        "plt.rc('image', cmap='gray')\n",
        "plt.rc('grid', linewidth=0)\n",
        "plt.rc('xtick', top=False, bottom=False, labelsize='large')\n",
        "plt.rc('ytick', left=False, right=False, labelsize='large')\n",
        "plt.rc('axes', facecolor='F8F8F8', titlesize=\"large\", edgecolor='white')\n",
        "plt.rc('text', color='a8151a')\n",
        "plt.rc('figure', facecolor='F0F0F0')# Matplotlib fonts\n",
        "MATPLOTLIB_FONT_DIR = os.path.join(os.path.dirname(plt.__file__), \"mpl-data/fonts/ttf\")\n",
        "\n",
        "# pull a batch from the datasets. This code is not very nice, it gets much better in eager mode (TODO)\n",
        "def dataset_to_numpy_util(training_dataset, validation_dataset, N):\n",
        "\n",
        "  # get one batch from each: 10000 validation digits, N training digits\n",
        "  batch_train_ds = training_dataset.unbatch().batch(N)\n",
        "\n",
        "  # eager execution: loop through datasets normally\n",
        "  if tf.executing_eagerly():\n",
        "    for validation_digits, (validation_labels, validation_bboxes) in validation_dataset:\n",
        "      validation_digits = validation_digits.numpy()\n",
        "      validation_labels = validation_labels.numpy()\n",
        "      validation_bboxes = validation_bboxes.numpy()\n",
        "      break\n",
        "    for training_digits, (training_labels, training_bboxes) in batch_train_ds:\n",
        "      training_digits = training_digits.numpy()\n",
        "      training_labels = training_labels.numpy()\n",
        "      training_bboxes = training_bboxes.numpy()\n",
        "      break\n",
        "\n",
        "  # these were one-hot encoded in the dataset\n",
        "  validation_labels = np.argmax(validation_labels, axis=1)\n",
        "  training_labels = np.argmax(training_labels, axis=1)\n",
        "\n",
        "  return (training_digits, training_labels, training_bboxes,\n",
        "          validation_digits, validation_labels, validation_bboxes)\n",
        "\n",
        "# create digits from local fonts for testing\n",
        "def create_digits_from_local_fonts(n):\n",
        "  font_labels = []\n",
        "  img = PIL.Image.new('LA', (75*n, 75), color = (0,255)) # format 'LA': black in channel 0, alpha in channel 1\n",
        "  font1 = PIL.ImageFont.truetype(os.path.join(MATPLOTLIB_FONT_DIR, 'DejaVuSansMono-Oblique.ttf'), 25)\n",
        "  font2 = PIL.ImageFont.truetype(os.path.join(MATPLOTLIB_FONT_DIR, 'STIXGeneral.ttf'), 25)\n",
        "  d = PIL.ImageDraw.Draw(img)\n",
        "  for i in range(n):\n",
        "    font_labels.append(i%10)\n",
        "    d.text((7+i*75,0 if i<10 else -4), str(i%10), fill=(255,255), font=font1 if i<10 else font2)\n",
        "  font_digits = np.array(img.getdata(), np.float32)[:,0] / 255.0 # black in channel 0, alpha in channel 1 (discarded)\n",
        "  font_digits = np.reshape(np.stack(np.split(np.reshape(font_digits, [75, 75*n]), n, axis=1), axis=0), [n, 75*75])\n",
        "  return font_digits, font_labels\n",
        "\n",
        "\n",
        "# utility to display a row of digits with their predictions\n",
        "def display_digits_with_boxes(digits, predictions, labels, pred_bboxes, bboxes, iou, title):\n",
        "\n",
        "  n = 10\n",
        "\n",
        "  indexes = np.random.choice(len(predictions), size=n)\n",
        "  n_digits = digits[indexes]\n",
        "  n_predictions = predictions[indexes]\n",
        "  n_labels = labels[indexes]\n",
        "\n",
        "  n_iou = []\n",
        "  if len(iou) > 0:\n",
        "    n_iou = iou[indexes]\n",
        "\n",
        "  if (len(pred_bboxes) > 0):\n",
        "    n_pred_bboxes = pred_bboxes[indexes,:]\n",
        "\n",
        "  if (len(bboxes) > 0):\n",
        "    n_bboxes = bboxes[indexes,:]\n",
        "\n",
        "\n",
        "  n_digits = n_digits * 255.0\n",
        "  n_digits = n_digits.reshape(n, 75, 75)\n",
        "  fig = plt.figure(figsize=(20, 4))\n",
        "  plt.title(title)\n",
        "  plt.yticks([])\n",
        "  plt.xticks([])\n",
        "\n",
        "  for i in range(10):\n",
        "    ax = fig.add_subplot(1, 10, i+1)\n",
        "    bboxes_to_plot = []\n",
        "    if (len(pred_bboxes) > i):\n",
        "      bboxes_to_plot.append(n_pred_bboxes[i])\n",
        "\n",
        "    if (len(bboxes) > i):\n",
        "      bboxes_to_plot.append(n_bboxes[i])\n",
        "\n",
        "    img_to_draw = draw_bounding_boxes_on_image_array(image=n_digits[i], boxes=np.asarray(bboxes_to_plot), color=['red', 'green'], display_str_list=[\"true\", \"pred\"])\n",
        "    plt.xlabel(n_predictions[i])\n",
        "    plt.xticks([])\n",
        "    plt.yticks([])\n",
        "\n",
        "    if n_predictions[i] != n_labels[i]:\n",
        "      ax.xaxis.label.set_color('red')\n",
        "\n",
        "\n",
        "\n",
        "    plt.imshow(img_to_draw)\n",
        "\n",
        "    if len(iou) > i :\n",
        "      color = \"black\"\n",
        "      if (n_iou[i][0] < iou_threshold):\n",
        "        color = \"red\"\n",
        "      ax.text(0.2, -0.3, \"iou: %s\" %(n_iou[i][0]), color=color, transform=ax.transAxes)\n",
        "\n",
        "\n",
        "# utility to display training and validation curves\n",
        "def plot_metrics(metric_name, title, ylim=5):\n",
        "  plt.title(title)\n",
        "  plt.ylim(0,ylim)\n",
        "  plt.plot(history.history[metric_name],color='blue',label=metric_name)\n",
        "  plt.plot(history.history['val_' + metric_name],color='green',label='val_' + metric_name)"
      ],
      "execution_count": 3,
      "outputs": []
    },
    {
      "cell_type": "markdown",
      "metadata": {
        "id": "_Ok__0RB-M8S"
      },
      "source": [
        "## Selecting Between Strategies"
      ]
    },
    {
      "cell_type": "markdown",
      "metadata": {
        "id": "R4jujVYWY9-6"
      },
      "source": [
        "### TPU or GPU detection\n",
        "\n",
        "\"Distributed Training\".\n",
        "\n",
        "- If the TPU is available, then you'll be using the TPU Strategy.\n",
        "Otherwise:\n",
        "- If more than one GPU is available, then you'll use the Mirrored Strategy\n",
        "- If one GPU is available or if just the CPU is available, you'll use the default strategy."
      ]
    },
    {
      "cell_type": "code",
      "metadata": {
        "id": "Hd5zB1G7Y9-7",
        "colab": {
          "base_uri": "https://localhost:8080/"
        },
        "outputId": "b5a1eda4-e716-4e45-d7e0-23933e4f0c43"
      },
      "source": [
        "# Detect hardware\n",
        "try:\n",
        "  tpu = tf.distribute.cluster_resolver.TPUClusterResolver() # TPU detection\n",
        "except ValueError:\n",
        "  tpu = None\n",
        "  gpus = tf.config.experimental.list_logical_devices(\"GPU\")\n",
        "\n",
        "# Select appropriate distribution strategy\n",
        "if tpu:\n",
        "  tf.config.experimental_connect_to_cluster(tpu)\n",
        "  tf.tpu.experimental.initialize_tpu_system(tpu)\n",
        "  strategy = tf.distribute.experimental.TPUStrategy(tpu) # Going back and forth between TPU and host is expensive. Better to run 128 batches on the TPU before reporting back.\n",
        "  print('Running on TPU ', tpu.cluster_spec().as_dict()['worker'])\n",
        "elif len(gpus) > 1:\n",
        "  strategy = tf.distribute.MirroredStrategy([gpu.name for gpu in gpus])\n",
        "  print('Running on multiple GPUs ', [gpu.name for gpu in gpus])\n",
        "elif len(gpus) == 1:\n",
        "  strategy = tf.distribute.get_strategy() # default strategy that works on CPU and single GPU\n",
        "  print('Running on single GPU ', gpus[0].name)\n",
        "else:\n",
        "  strategy = tf.distribute.get_strategy() # default strategy that works on CPU and single GPU\n",
        "  print('Running on CPU')\n",
        "print(\"Number of accelerators: \", strategy.num_replicas_in_sync)"
      ],
      "execution_count": 4,
      "outputs": [
        {
          "output_type": "stream",
          "name": "stderr",
          "text": [
            "WARNING:absl:`tf.distribute.experimental.TPUStrategy` is deprecated, please use  the non experimental symbol `tf.distribute.TPUStrategy` instead.\n"
          ]
        },
        {
          "output_type": "stream",
          "name": "stdout",
          "text": [
            "Running on TPU  ['10.11.70.250:8470']\n",
            "Number of accelerators:  8\n"
          ]
        }
      ]
    },
    {
      "cell_type": "markdown",
      "metadata": {
        "id": "Lvo0t7XVIkWZ"
      },
      "source": [
        "### Parameters\n",
        "\n",
        "The global batch size is the batch size per replica (64 in this case) times the number of replicas in the distribution strategy."
      ]
    },
    {
      "cell_type": "code",
      "metadata": {
        "id": "cCpkS9C_H7Tl"
      },
      "source": [
        "BATCH_SIZE = 64 * strategy.num_replicas_in_sync # Gobal batch size.\n",
        "\n"
      ],
      "execution_count": 5,
      "outputs": []
    },
    {
      "cell_type": "markdown",
      "metadata": {
        "id": "JVkc7nzg-WUy"
      },
      "source": [
        "## Loading and Preprocessing the Dataset\n",
        "\n",
        "Define some helper functions that will pre-process your data:\n",
        "- `read_image_tfds`: randomly overlays the \"digit\" image on top of a larger canvas.\n",
        "- `get_training_dataset`: loads data and splits it to get the training set.\n",
        "- `get_validation_dataset`: loads and splits the data to get the validation set."
      ]
    },
    {
      "cell_type": "code",
      "metadata": {
        "id": "ZE8dgyPC1_6m"
      },
      "source": [
        "\n",
        "'''\n",
        "Transforms each image in dataset by pasting it on a 75x75 canvas at random locations.\n",
        "'''\n",
        "def read_image_tfds(image, label):\n",
        "    xmin = tf.random.uniform((), 0 , 48, dtype=tf.int32)\n",
        "    ymin = tf.random.uniform((), 0 , 48, dtype=tf.int32)\n",
        "    image = tf.reshape(image, (28,28,1,))\n",
        "    image = tf.image.pad_to_bounding_box(image, ymin, xmin, 75, 75)\n",
        "    image = tf.cast(image, tf.float32)/255.0\n",
        "    xmin = tf.cast(xmin, tf.float32)\n",
        "    ymin = tf.cast(ymin, tf.float32)\n",
        "\n",
        "    xmax = (xmin + 28) / 75\n",
        "    ymax = (ymin + 28) / 75\n",
        "    xmin = xmin / 75\n",
        "    ymin = ymin / 75\n",
        "    return image, (tf.one_hot(label, 10), [xmin, ymin, xmax, ymax])\n",
        "\n",
        "'''\n",
        "Loads and maps the training split of the dataset using the map function. Note that we try to load the gcs version since TPU can only work with datasets on Google Cloud Storage.\n",
        "'''\n",
        "def get_training_dataset():\n",
        "\n",
        "      with  strategy.scope():\n",
        "        dataset = tfds.load(\"mnist\", split=\"train\", as_supervised=True, try_gcs=True)\n",
        "        dataset = dataset.map(read_image_tfds, num_parallel_calls=16)\n",
        "        dataset = dataset.shuffle(5000, reshuffle_each_iteration=True)\n",
        "        dataset = dataset.repeat() # Mandatory for Keras for now\n",
        "        dataset = dataset.batch(BATCH_SIZE, drop_remainder=True) # drop_remainder is important on TPU, batch size must be fixed\n",
        "        dataset = dataset.prefetch(-1)  # fetch next batches while training on the current one (-1: autotune prefetch buffer size)\n",
        "      return dataset\n",
        "\n",
        "'''\n",
        "Loads and maps the validation split of the dataset using the map function. Note that we try to load the gcs version since TPU can only work with datasets on Google Cloud Storage.\n",
        "'''\n",
        "def get_validation_dataset():\n",
        "    dataset = tfds.load(\"mnist\", split=\"test\", as_supervised=True, try_gcs=True)\n",
        "    dataset = dataset.map(read_image_tfds, num_parallel_calls=16)\n",
        "\n",
        "    #dataset = dataset.cache() # this small dataset can be entirely cached in RAM\n",
        "    dataset = dataset.batch(10000, drop_remainder=True) # 10000 items in eval dataset, all in one batch\n",
        "    dataset = dataset.repeat() # Mandatory for Keras for now\n",
        "    return dataset\n",
        "\n",
        "# instantiate the datasets\n",
        "with strategy.scope():\n",
        "  training_dataset = get_training_dataset()\n",
        "  validation_dataset = get_validation_dataset()"
      ],
      "execution_count": 6,
      "outputs": []
    },
    {
      "cell_type": "markdown",
      "source": [
        "Visualize data"
      ],
      "metadata": {
        "id": "pXWdUswdC0mS"
      }
    },
    {
      "cell_type": "code",
      "metadata": {
        "id": "yZ4tjPKvL2eh",
        "colab": {
          "base_uri": "https://localhost:8080/",
          "height": 571
        },
        "outputId": "28f9fbc8-c82a-46f4-ab54-95e6ebd0910e"
      },
      "source": [
        "(training_digits, training_labels, training_bboxes,\n",
        " validation_digits, validation_labels, validation_bboxes) = dataset_to_numpy_util(training_dataset, validation_dataset, 10)\n",
        "\n",
        "display_digits_with_boxes(training_digits, training_labels, training_labels, np.array([]), training_bboxes, np.array([]), \"training digits and their labels\")\n",
        "display_digits_with_boxes(validation_digits, validation_labels, validation_labels, np.array([]), validation_bboxes, np.array([]), \"validation digits and their labels\")\n"
      ],
      "execution_count": 7,
      "outputs": [
        {
          "output_type": "display_data",
          "data": {
            "text/plain": [
              "<Figure size 2000x400 with 11 Axes>"
            ],
            "image/png": "[encoded data removed]"
          },
          "metadata": {}
        },
        {
          "output_type": "display_data",
          "data": {
            "text/plain": [
              "<Figure size 2000x400 with 11 Axes>"
            ],
            "image/png": "[encoded data removed]"
          },
          "metadata": {}
        }
      ]
    },
    {
      "cell_type": "markdown",
      "metadata": {
        "id": "f8nHWWkS_eeZ"
      },
      "source": [
        "## Define the Network\n",
        "\n",
        "custom CNN.\n",
        "- `feature_extractor`: these convolutional layers extract the features of the image.\n",
        "- `classifier`:  This define the output layer that predicts among 10 categories (digits 0 through 9)\n",
        "- `bounding_box_regression`: This defines the output layer that predicts 4 numeric values, which define the coordinates of the bounding box (xmin, ymin, xmax, ymax)\n",
        "- `final_model`: This combines the layers for feature extraction, classification and bounding box prediction.  \n",
        "  \n",
        "- `define_and_compile_model`: choose the optimizer and metrics, then compile the model."
      ]
    },
    {
      "cell_type": "code",
      "metadata": {
        "id": "56y8UNFQIVwj",
        "colab": {
          "base_uri": "https://localhost:8080/"
        },
        "outputId": "fd12e541-08fe-465a-f2da-3a6a9e6a6e0b"
      },
      "source": [
        "'''\n",
        "Feature extractor is the CNN that is made up of convolution and pooling layers.\n",
        "'''\n",
        "def feature_extractor(inputs):\n",
        "    x = tf.keras.layers.Conv2D(16, activation='relu', kernel_size=3, input_shape=(75, 75, 1))(inputs)\n",
        "    x = tf.keras.layers.AveragePooling2D((2, 2))(x)\n",
        "\n",
        "    x = tf.keras.layers.Conv2D(32,kernel_size=3,activation='relu')(x)\n",
        "    x = tf.keras.layers.AveragePooling2D((2, 2))(x)\n",
        "\n",
        "    x = tf.keras.layers.Conv2D(64,kernel_size=3,activation='relu')(x)\n",
        "    x = tf.keras.layers.AveragePooling2D((2, 2))(x)\n",
        "\n",
        "    return x\n",
        "\n",
        "'''\n",
        "dense_layers adds a flatten and dense layer.\n",
        "This will follow the feature extraction layers\n",
        "'''\n",
        "def dense_layers(inputs):\n",
        "  x = tf.keras.layers.Flatten()(inputs)\n",
        "  x = tf.keras.layers.Dense(128, activation='relu')(x)\n",
        "  return x\n",
        "\n",
        "\n",
        "'''\n",
        "Classifier defines the classification output.\n",
        "'''\n",
        "def classifier(inputs):\n",
        "\n",
        "  classification_output = tf.keras.layers.Dense(10, activation='softmax', name = 'classification')(inputs)\n",
        "  return classification_output\n",
        "\n",
        "\n",
        "\n",
        "def bounding_box_regression(inputs):\n",
        "    bounding_box_regression_output = tf.keras.layers.Dense(units = '4', name = 'bounding_box')(inputs)\n",
        "    return bounding_box_regression_output\n",
        "\n",
        "\n",
        "def final_model(inputs):\n",
        "    feature_cnn = feature_extractor(inputs)\n",
        "    dense_output = dense_layers(feature_cnn)\n",
        "\n",
        "    '''\n",
        "    The model branches here.\n",
        "    The dense layer's output gets fed into two branches:\n",
        "    classification_output and bounding_box_output\n",
        "    '''\n",
        "    classification_output = classifier(dense_output)\n",
        "    bounding_box_output = bounding_box_regression(dense_output)\n",
        "\n",
        "    model = tf.keras.Model(inputs = inputs, outputs = [classification_output, bounding_box_output])\n",
        "\n",
        "    return model\n",
        "\n",
        "\n",
        "def define_and_compile_model(inputs):\n",
        "  model = final_model(inputs)\n",
        "\n",
        "  model.compile(optimizer='adam',\n",
        "              loss = {'classification' : 'categorical_crossentropy',\n",
        "                      'bounding_box' : 'mse'\n",
        "                     },\n",
        "              metrics = {'classification' : 'accuracy',\n",
        "                         'bounding_box' : 'mse'\n",
        "                        })\n",
        "  return model\n",
        "\n",
        "\n",
        "with strategy.scope():\n",
        "  inputs = tf.keras.layers.Input(shape=(75, 75, 1,))\n",
        "  model = define_and_compile_model(inputs)\n",
        "\n",
        "# print model layers\n",
        "model.summary()"
      ],
      "execution_count": 8,
      "outputs": [
        {
          "output_type": "stream",
          "name": "stdout",
          "text": [
            "Model: \"model\"\n",
            "__________________________________________________________________________________________________\n",
            " Layer (type)                   Output Shape         Param #     Connected to                     \n",
            "==================================================================================================\n",
            " input_1 (InputLayer)           [(None, 75, 75, 1)]  0           []                               \n",
            "                                                                                                  \n",
            " conv2d (Conv2D)                (None, 73, 73, 16)   160         ['input_1[0][0]']                \n",
            "                                                                                                  \n",
            " average_pooling2d (AveragePool  (None, 36, 36, 16)  0           ['conv2d[0][0]']                 \n",
            " ing2D)                                                                                           \n",
            "                                                                                                  \n",
            " conv2d_1 (Conv2D)              (None, 34, 34, 32)   4640        ['average_pooling2d[0][0]']      \n",
            "                                                                                                  \n",
            " average_pooling2d_1 (AveragePo  (None, 17, 17, 32)  0           ['conv2d_1[0][0]']               \n",
            " oling2D)                                                                                         \n",
            "                                                                                                  \n",
            " conv2d_2 (Conv2D)              (None, 15, 15, 64)   18496       ['average_pooling2d_1[0][0]']    \n",
            "                                                                                                  \n",
            " average_pooling2d_2 (AveragePo  (None, 7, 7, 64)    0           ['conv2d_2[0][0]']               \n",
            " oling2D)                                                                                         \n",
            "                                                                                                  \n",
            " flatten (Flatten)              (None, 3136)         0           ['average_pooling2d_2[0][0]']    \n",
            "                                                                                                  \n",
            " dense (Dense)                  (None, 128)          401536      ['flatten[0][0]']                \n",
            "                                                                                                  \n",
            " classification (Dense)         (None, 10)           1290        ['dense[0][0]']                  \n",
            "                                                                                                  \n",
            " bounding_box (Dense)           (None, 4)            516         ['dense[0][0]']                  \n",
            "                                                                                                  \n",
            "==================================================================================================\n",
            "Total params: 426,638\n",
            "Trainable params: 426,638\n",
            "Non-trainable params: 0\n",
            "__________________________________________________________________________________________________\n"
          ]
        }
      ]
    },
    {
      "cell_type": "markdown",
      "metadata": {
        "id": "CuhDh8ao8VyB"
      },
      "source": [
        "### Train and validate the model"
      ]
    },
    {
      "cell_type": "markdown",
      "metadata": {
        "id": "kv0BQTPsKrkt"
      },
      "source": [
        "Train the model.  \n",
        "\n",
        "\n"
      ]
    },
    {
      "cell_type": "code",
      "metadata": {
        "id": "TTwH_P-ZJ_xx",
        "colab": {
          "base_uri": "https://localhost:8080/"
        },
        "outputId": "72f1da3c-5b62-46d7-b6c3-c44441fec904"
      },
      "source": [
        "EPOCHS = 50 # 45\n",
        "steps_per_epoch = 60000//BATCH_SIZE  # 60,000 items in this dataset\n",
        "validation_steps = 1\n",
        "\n",
        "history = model.fit(training_dataset,\n",
        "                    steps_per_epoch=steps_per_epoch, validation_data=validation_dataset, validation_steps=validation_steps, epochs=EPOCHS)\n",
        "\n",
        "loss, classification_loss, bounding_box_loss, classification_accuracy, bounding_box_mse = model.evaluate(validation_dataset, steps=1)\n",
        "print(\"Validation accuracy: \", classification_accuracy)"
      ],
      "execution_count": 9,
      "outputs": [
        {
          "output_type": "stream",
          "name": "stdout",
          "text": [
            "Epoch 1/50\n",
            "117/117 [==============================] - 18s 94ms/step - loss: 2.1393 - classification_loss: 2.1171 - bounding_box_loss: 0.0222 - classification_accuracy: 0.2031 - bounding_box_mse: 0.0222 - val_loss: 1.6770 - val_classification_loss: 1.6654 - val_bounding_box_loss: 0.0116 - val_classification_accuracy: 0.3867 - val_bounding_box_mse: 0.0116\n",
            "Epoch 2/50\n",
            "117/117 [==============================] - 4s 30ms/step - loss: 1.1960 - classification_loss: 1.1784 - bounding_box_loss: 0.0176 - classification_accuracy: 0.5976 - bounding_box_mse: 0.0176 - val_loss: 0.7122 - val_classification_loss: 0.6843 - val_bounding_box_loss: 0.0279 - val_classification_accuracy: 0.7921 - val_bounding_box_mse: 0.0279\n",
            "Epoch 3/50\n",
            "117/117 [==============================] - 4s 33ms/step - loss: 0.5448 - classification_loss: 0.5230 - bounding_box_loss: 0.0217 - classification_accuracy: 0.8454 - bounding_box_mse: 0.0217 - val_loss: 0.4099 - val_classification_loss: 0.3899 - val_bounding_box_loss: 0.0200 - val_classification_accuracy: 0.8804 - val_bounding_box_mse: 0.0200\n",
            "Epoch 4/50\n",
            "117/117 [==============================] - 4s 31ms/step - loss: 0.3704 - classification_loss: 0.3565 - bounding_box_loss: 0.0139 - classification_accuracy: 0.8962 - bounding_box_mse: 0.0139 - val_loss: 0.3072 - val_classification_loss: 0.2930 - val_bounding_box_loss: 0.0142 - val_classification_accuracy: 0.9116 - val_bounding_box_mse: 0.0142\n",
            "Epoch 5/50\n",
            "117/117 [==============================] - 4s 31ms/step - loss: 0.3064 - classification_loss: 0.2956 - bounding_box_loss: 0.0107 - classification_accuracy: 0.9126 - bounding_box_mse: 0.0107 - val_loss: 0.2498 - val_classification_loss: 0.2406 - val_bounding_box_loss: 0.0092 - val_classification_accuracy: 0.9296 - val_bounding_box_mse: 0.0092\n",
            "Epoch 6/50\n",
            "117/117 [==============================] - 4s 32ms/step - loss: 0.2635 - classification_loss: 0.2551 - bounding_box_loss: 0.0084 - classification_accuracy: 0.9255 - bounding_box_mse: 0.0084 - val_loss: 0.2230 - val_classification_loss: 0.2148 - val_bounding_box_loss: 0.0082 - val_classification_accuracy: 0.9349 - val_bounding_box_mse: 0.0082\n",
            "Epoch 7/50\n",
            "117/117 [==============================] - 5s 42ms/step - loss: 0.2308 - classification_loss: 0.2237 - bounding_box_loss: 0.0072 - classification_accuracy: 0.9342 - bounding_box_mse: 0.0072 - val_loss: 0.1955 - val_classification_loss: 0.1890 - val_bounding_box_loss: 0.0065 - val_classification_accuracy: 0.9441 - val_bounding_box_mse: 0.0065\n",
            "Epoch 8/50\n",
            "117/117 [==============================] - 4s 31ms/step - loss: 0.2085 - classification_loss: 0.2022 - bounding_box_loss: 0.0063 - classification_accuracy: 0.9404 - bounding_box_mse: 0.0063 - val_loss: 0.1785 - val_classification_loss: 0.1725 - val_bounding_box_loss: 0.0059 - val_classification_accuracy: 0.9478 - val_bounding_box_mse: 0.0059\n",
            "Epoch 9/50\n",
            "117/117 [==============================] - 4s 34ms/step - loss: 0.2013 - classification_loss: 0.1954 - bounding_box_loss: 0.0059 - classification_accuracy: 0.9419 - bounding_box_mse: 0.0059 - val_loss: 0.1544 - val_classification_loss: 0.1495 - val_bounding_box_loss: 0.0049 - val_classification_accuracy: 0.9542 - val_bounding_box_mse: 0.0049\n",
            "Epoch 10/50\n",
            "117/117 [==============================] - 4s 36ms/step - loss: 0.1787 - classification_loss: 0.1737 - bounding_box_loss: 0.0050 - classification_accuracy: 0.9475 - bounding_box_mse: 0.0050 - val_loss: 0.1404 - val_classification_loss: 0.1353 - val_bounding_box_loss: 0.0051 - val_classification_accuracy: 0.9577 - val_bounding_box_mse: 0.0051\n",
            "Epoch 11/50\n",
            "117/117 [==============================] - 5s 47ms/step - loss: 0.1685 - classification_loss: 0.1640 - bounding_box_loss: 0.0046 - classification_accuracy: 0.9513 - bounding_box_mse: 0.0046 - val_loss: 0.1439 - val_classification_loss: 0.1394 - val_bounding_box_loss: 0.0044 - val_classification_accuracy: 0.9616 - val_bounding_box_mse: 0.0044\n",
            "Epoch 12/50\n",
            "117/117 [==============================] - 7s 61ms/step - loss: 0.1610 - classification_loss: 0.1566 - bounding_box_loss: 0.0043 - classification_accuracy: 0.9537 - bounding_box_mse: 0.0043 - val_loss: 0.1239 - val_classification_loss: 0.1195 - val_bounding_box_loss: 0.0044 - val_classification_accuracy: 0.9635 - val_bounding_box_mse: 0.0044\n",
            "Epoch 13/50\n",
            "117/117 [==============================] - 4s 37ms/step - loss: 0.1495 - classification_loss: 0.1458 - bounding_box_loss: 0.0037 - classification_accuracy: 0.9559 - bounding_box_mse: 0.0037 - val_loss: 0.1228 - val_classification_loss: 0.1193 - val_bounding_box_loss: 0.0035 - val_classification_accuracy: 0.9632 - val_bounding_box_mse: 0.0035\n",
            "Epoch 14/50\n",
            "117/117 [==============================] - 4s 32ms/step - loss: 0.1366 - classification_loss: 0.1332 - bounding_box_loss: 0.0035 - classification_accuracy: 0.9601 - bounding_box_mse: 0.0035 - val_loss: 0.1172 - val_classification_loss: 0.1139 - val_bounding_box_loss: 0.0032 - val_classification_accuracy: 0.9636 - val_bounding_box_mse: 0.0032\n",
            "Epoch 15/50\n",
            "117/117 [==============================] - 4s 34ms/step - loss: 0.1343 - classification_loss: 0.1310 - bounding_box_loss: 0.0033 - classification_accuracy: 0.9595 - bounding_box_mse: 0.0033 - val_loss: 0.1348 - val_classification_loss: 0.1312 - val_bounding_box_loss: 0.0036 - val_classification_accuracy: 0.9589 - val_bounding_box_mse: 0.0036\n",
            "Epoch 16/50\n",
            "117/117 [==============================] - 4s 31ms/step - loss: 0.1274 - classification_loss: 0.1243 - bounding_box_loss: 0.0031 - classification_accuracy: 0.9621 - bounding_box_mse: 0.0031 - val_loss: 0.1036 - val_classification_loss: 0.1007 - val_bounding_box_loss: 0.0029 - val_classification_accuracy: 0.9682 - val_bounding_box_mse: 0.0029\n",
            "Epoch 17/50\n",
            "117/117 [==============================] - 5s 42ms/step - loss: 0.1222 - classification_loss: 0.1192 - bounding_box_loss: 0.0029 - classification_accuracy: 0.9631 - bounding_box_mse: 0.0029 - val_loss: 0.1030 - val_classification_loss: 0.1002 - val_bounding_box_loss: 0.0029 - val_classification_accuracy: 0.9705 - val_bounding_box_mse: 0.0029\n",
            "Epoch 18/50\n",
            "117/117 [==============================] - 6s 49ms/step - loss: 0.1182 - classification_loss: 0.1154 - bounding_box_loss: 0.0028 - classification_accuracy: 0.9646 - bounding_box_mse: 0.0028 - val_loss: 0.0931 - val_classification_loss: 0.0905 - val_bounding_box_loss: 0.0027 - val_classification_accuracy: 0.9715 - val_bounding_box_mse: 0.0027\n",
            "Epoch 19/50\n",
            "117/117 [==============================] - 6s 53ms/step - loss: 0.1124 - classification_loss: 0.1100 - bounding_box_loss: 0.0025 - classification_accuracy: 0.9667 - bounding_box_mse: 0.0025 - val_loss: 0.0953 - val_classification_loss: 0.0924 - val_bounding_box_loss: 0.0028 - val_classification_accuracy: 0.9698 - val_bounding_box_mse: 0.0028\n",
            "Epoch 20/50\n",
            "117/117 [==============================] - 4s 35ms/step - loss: 0.1091 - classification_loss: 0.1067 - bounding_box_loss: 0.0024 - classification_accuracy: 0.9678 - bounding_box_mse: 0.0024 - val_loss: 0.0949 - val_classification_loss: 0.0927 - val_bounding_box_loss: 0.0023 - val_classification_accuracy: 0.9715 - val_bounding_box_mse: 0.0023\n",
            "Epoch 21/50\n",
            "117/117 [==============================] - 5s 42ms/step - loss: 0.1039 - classification_loss: 0.1016 - bounding_box_loss: 0.0023 - classification_accuracy: 0.9682 - bounding_box_mse: 0.0023 - val_loss: 0.0850 - val_classification_loss: 0.0828 - val_bounding_box_loss: 0.0023 - val_classification_accuracy: 0.9737 - val_bounding_box_mse: 0.0023\n",
            "Epoch 22/50\n",
            "117/117 [==============================] - 4s 34ms/step - loss: 0.1065 - classification_loss: 0.1043 - bounding_box_loss: 0.0022 - classification_accuracy: 0.9680 - bounding_box_mse: 0.0022 - val_loss: 0.0996 - val_classification_loss: 0.0969 - val_bounding_box_loss: 0.0027 - val_classification_accuracy: 0.9701 - val_bounding_box_mse: 0.0027\n",
            "Epoch 23/50\n",
            "117/117 [==============================] - 4s 31ms/step - loss: 0.0985 - classification_loss: 0.0963 - bounding_box_loss: 0.0022 - classification_accuracy: 0.9707 - bounding_box_mse: 0.0022 - val_loss: 0.1015 - val_classification_loss: 0.0994 - val_bounding_box_loss: 0.0021 - val_classification_accuracy: 0.9689 - val_bounding_box_mse: 0.0021\n",
            "Epoch 24/50\n",
            "117/117 [==============================] - 4s 32ms/step - loss: 0.0984 - classification_loss: 0.0965 - bounding_box_loss: 0.0020 - classification_accuracy: 0.9701 - bounding_box_mse: 0.0020 - val_loss: 0.0755 - val_classification_loss: 0.0738 - val_bounding_box_loss: 0.0018 - val_classification_accuracy: 0.9762 - val_bounding_box_mse: 0.0018\n",
            "Epoch 25/50\n",
            "117/117 [==============================] - 4s 32ms/step - loss: 0.0917 - classification_loss: 0.0899 - bounding_box_loss: 0.0018 - classification_accuracy: 0.9730 - bounding_box_mse: 0.0018 - val_loss: 0.0819 - val_classification_loss: 0.0802 - val_bounding_box_loss: 0.0018 - val_classification_accuracy: 0.9751 - val_bounding_box_mse: 0.0018\n",
            "Epoch 26/50\n",
            "117/117 [==============================] - 4s 32ms/step - loss: 0.0900 - classification_loss: 0.0883 - bounding_box_loss: 0.0017 - classification_accuracy: 0.9726 - bounding_box_mse: 0.0017 - val_loss: 0.0988 - val_classification_loss: 0.0962 - val_bounding_box_loss: 0.0026 - val_classification_accuracy: 0.9712 - val_bounding_box_mse: 0.0026\n",
            "Epoch 27/50\n",
            "117/117 [==============================] - 4s 31ms/step - loss: 0.0948 - classification_loss: 0.0929 - bounding_box_loss: 0.0019 - classification_accuracy: 0.9716 - bounding_box_mse: 0.0019 - val_loss: 0.0820 - val_classification_loss: 0.0803 - val_bounding_box_loss: 0.0017 - val_classification_accuracy: 0.9744 - val_bounding_box_mse: 0.0017\n",
            "Epoch 28/50\n",
            "117/117 [==============================] - 5s 40ms/step - loss: 0.0840 - classification_loss: 0.0823 - bounding_box_loss: 0.0017 - classification_accuracy: 0.9750 - bounding_box_mse: 0.0017 - val_loss: 0.0783 - val_classification_loss: 0.0766 - val_bounding_box_loss: 0.0017 - val_classification_accuracy: 0.9763 - val_bounding_box_mse: 0.0017\n",
            "Epoch 29/50\n",
            "117/117 [==============================] - 4s 35ms/step - loss: 0.0863 - classification_loss: 0.0846 - bounding_box_loss: 0.0017 - classification_accuracy: 0.9740 - bounding_box_mse: 0.0017 - val_loss: 0.0739 - val_classification_loss: 0.0722 - val_bounding_box_loss: 0.0017 - val_classification_accuracy: 0.9761 - val_bounding_box_mse: 0.0017\n",
            "Epoch 30/50\n",
            "117/117 [==============================] - 4s 33ms/step - loss: 0.0853 - classification_loss: 0.0837 - bounding_box_loss: 0.0015 - classification_accuracy: 0.9744 - bounding_box_mse: 0.0015 - val_loss: 0.0763 - val_classification_loss: 0.0747 - val_bounding_box_loss: 0.0016 - val_classification_accuracy: 0.9773 - val_bounding_box_mse: 0.0016\n",
            "Epoch 31/50\n",
            "117/117 [==============================] - 5s 40ms/step - loss: 0.0805 - classification_loss: 0.0789 - bounding_box_loss: 0.0015 - classification_accuracy: 0.9759 - bounding_box_mse: 0.0015 - val_loss: 0.0662 - val_classification_loss: 0.0647 - val_bounding_box_loss: 0.0016 - val_classification_accuracy: 0.9788 - val_bounding_box_mse: 0.0016\n",
            "Epoch 32/50\n",
            "117/117 [==============================] - 6s 51ms/step - loss: 0.0811 - classification_loss: 0.0796 - bounding_box_loss: 0.0015 - classification_accuracy: 0.9758 - bounding_box_mse: 0.0015 - val_loss: 0.0718 - val_classification_loss: 0.0704 - val_bounding_box_loss: 0.0014 - val_classification_accuracy: 0.9755 - val_bounding_box_mse: 0.0014\n",
            "Epoch 33/50\n",
            "117/117 [==============================] - 4s 32ms/step - loss: 0.0743 - classification_loss: 0.0729 - bounding_box_loss: 0.0014 - classification_accuracy: 0.9775 - bounding_box_mse: 0.0014 - val_loss: 0.0608 - val_classification_loss: 0.0595 - val_bounding_box_loss: 0.0013 - val_classification_accuracy: 0.9807 - val_bounding_box_mse: 0.0013\n",
            "Epoch 34/50\n",
            "117/117 [==============================] - 4s 33ms/step - loss: 0.0770 - classification_loss: 0.0757 - bounding_box_loss: 0.0013 - classification_accuracy: 0.9764 - bounding_box_mse: 0.0013 - val_loss: 0.0649 - val_classification_loss: 0.0634 - val_bounding_box_loss: 0.0015 - val_classification_accuracy: 0.9800 - val_bounding_box_mse: 0.0015\n",
            "Epoch 35/50\n",
            "117/117 [==============================] - 4s 36ms/step - loss: 0.0727 - classification_loss: 0.0714 - bounding_box_loss: 0.0013 - classification_accuracy: 0.9777 - bounding_box_mse: 0.0013 - val_loss: 0.0636 - val_classification_loss: 0.0624 - val_bounding_box_loss: 0.0012 - val_classification_accuracy: 0.9805 - val_bounding_box_mse: 0.0012\n",
            "Epoch 36/50\n",
            "117/117 [==============================] - 4s 32ms/step - loss: 0.0728 - classification_loss: 0.0716 - bounding_box_loss: 0.0013 - classification_accuracy: 0.9783 - bounding_box_mse: 0.0013 - val_loss: 0.0623 - val_classification_loss: 0.0611 - val_bounding_box_loss: 0.0012 - val_classification_accuracy: 0.9806 - val_bounding_box_mse: 0.0012\n",
            "Epoch 37/50\n",
            "117/117 [==============================] - 6s 50ms/step - loss: 0.0731 - classification_loss: 0.0718 - bounding_box_loss: 0.0013 - classification_accuracy: 0.9777 - bounding_box_mse: 0.0013 - val_loss: 0.0620 - val_classification_loss: 0.0607 - val_bounding_box_loss: 0.0013 - val_classification_accuracy: 0.9811 - val_bounding_box_mse: 0.0013\n",
            "Epoch 38/50\n",
            "117/117 [==============================] - 5s 42ms/step - loss: 0.0710 - classification_loss: 0.0697 - bounding_box_loss: 0.0012 - classification_accuracy: 0.9788 - bounding_box_mse: 0.0012 - val_loss: 0.0656 - val_classification_loss: 0.0639 - val_bounding_box_loss: 0.0017 - val_classification_accuracy: 0.9798 - val_bounding_box_mse: 0.0017\n",
            "Epoch 39/50\n",
            "117/117 [==============================] - 7s 58ms/step - loss: 0.0682 - classification_loss: 0.0669 - bounding_box_loss: 0.0013 - classification_accuracy: 0.9794 - bounding_box_mse: 0.0013 - val_loss: 0.0588 - val_classification_loss: 0.0573 - val_bounding_box_loss: 0.0015 - val_classification_accuracy: 0.9800 - val_bounding_box_mse: 0.0015\n",
            "Epoch 40/50\n",
            "117/117 [==============================] - 4s 33ms/step - loss: 0.0660 - classification_loss: 0.0648 - bounding_box_loss: 0.0011 - classification_accuracy: 0.9796 - bounding_box_mse: 0.0011 - val_loss: 0.0559 - val_classification_loss: 0.0549 - val_bounding_box_loss: 0.0010 - val_classification_accuracy: 0.9825 - val_bounding_box_mse: 0.0010\n",
            "Epoch 41/50\n",
            "117/117 [==============================] - 6s 50ms/step - loss: 0.0666 - classification_loss: 0.0654 - bounding_box_loss: 0.0012 - classification_accuracy: 0.9800 - bounding_box_mse: 0.0012 - val_loss: 0.0525 - val_classification_loss: 0.0514 - val_bounding_box_loss: 0.0012 - val_classification_accuracy: 0.9845 - val_bounding_box_mse: 0.0012\n",
            "Epoch 42/50\n",
            "117/117 [==============================] - 4s 32ms/step - loss: 0.0633 - classification_loss: 0.0622 - bounding_box_loss: 0.0011 - classification_accuracy: 0.9804 - bounding_box_mse: 0.0011 - val_loss: 0.0661 - val_classification_loss: 0.0648 - val_bounding_box_loss: 0.0013 - val_classification_accuracy: 0.9795 - val_bounding_box_mse: 0.0013\n",
            "Epoch 43/50\n",
            "117/117 [==============================] - 4s 32ms/step - loss: 0.0611 - classification_loss: 0.0600 - bounding_box_loss: 0.0011 - classification_accuracy: 0.9810 - bounding_box_mse: 0.0011 - val_loss: 0.0597 - val_classification_loss: 0.0586 - val_bounding_box_loss: 0.0010 - val_classification_accuracy: 0.9808 - val_bounding_box_mse: 0.0010\n",
            "Epoch 44/50\n",
            "117/117 [==============================] - 4s 32ms/step - loss: 0.0627 - classification_loss: 0.0616 - bounding_box_loss: 0.0011 - classification_accuracy: 0.9806 - bounding_box_mse: 0.0011 - val_loss: 0.0524 - val_classification_loss: 0.0513 - val_bounding_box_loss: 0.0011 - val_classification_accuracy: 0.9842 - val_bounding_box_mse: 0.0011\n",
            "Epoch 45/50\n",
            "117/117 [==============================] - 4s 33ms/step - loss: 0.0617 - classification_loss: 0.0607 - bounding_box_loss: 0.0010 - classification_accuracy: 0.9811 - bounding_box_mse: 0.0010 - val_loss: 0.0573 - val_classification_loss: 0.0562 - val_bounding_box_loss: 0.0010 - val_classification_accuracy: 0.9810 - val_bounding_box_mse: 0.0010\n",
            "Epoch 46/50\n",
            "117/117 [==============================] - 4s 32ms/step - loss: 0.0619 - classification_loss: 0.0608 - bounding_box_loss: 0.0011 - classification_accuracy: 0.9812 - bounding_box_mse: 0.0011 - val_loss: 0.0512 - val_classification_loss: 0.0502 - val_bounding_box_loss: 9.1865e-04 - val_classification_accuracy: 0.9839 - val_bounding_box_mse: 9.1865e-04\n",
            "Epoch 47/50\n",
            "117/117 [==============================] - 4s 31ms/step - loss: 0.0595 - classification_loss: 0.0585 - bounding_box_loss: 9.6372e-04 - classification_accuracy: 0.9817 - bounding_box_mse: 9.6372e-04 - val_loss: 0.0477 - val_classification_loss: 0.0466 - val_bounding_box_loss: 0.0011 - val_classification_accuracy: 0.9857 - val_bounding_box_mse: 0.0011\n",
            "Epoch 48/50\n",
            "117/117 [==============================] - 4s 34ms/step - loss: 0.0558 - classification_loss: 0.0549 - bounding_box_loss: 8.9543e-04 - classification_accuracy: 0.9835 - bounding_box_mse: 8.9543e-04 - val_loss: 0.0541 - val_classification_loss: 0.0532 - val_bounding_box_loss: 9.0946e-04 - val_classification_accuracy: 0.9831 - val_bounding_box_mse: 9.0946e-04\n",
            "Epoch 49/50\n",
            "117/117 [==============================] - 4s 32ms/step - loss: 0.0582 - classification_loss: 0.0573 - bounding_box_loss: 9.0884e-04 - classification_accuracy: 0.9825 - bounding_box_mse: 9.0884e-04 - val_loss: 0.0519 - val_classification_loss: 0.0510 - val_bounding_box_loss: 9.0298e-04 - val_classification_accuracy: 0.9829 - val_bounding_box_mse: 9.0298e-04\n",
            "Epoch 50/50\n",
            "117/117 [==============================] - 4s 31ms/step - loss: 0.0543 - classification_loss: 0.0534 - bounding_box_loss: 8.9271e-04 - classification_accuracy: 0.9836 - bounding_box_mse: 8.9271e-04 - val_loss: 0.0552 - val_classification_loss: 0.0542 - val_bounding_box_loss: 9.5279e-04 - val_classification_accuracy: 0.9830 - val_bounding_box_mse: 9.5279e-04\n",
            "1/1 [==============================] - 1s 1s/step - loss: 0.0556 - classification_loss: 0.0546 - bounding_box_loss: 9.4407e-04 - classification_accuracy: 0.9828 - bounding_box_mse: 9.4407e-04\n",
            "Validation accuracy:  0.9828000068664551\n"
          ]
        }
      ]
    },
    {
      "cell_type": "code",
      "metadata": {
        "id": "Cz-b8TxU6EDj"
      },
      "source": [],
      "execution_count": null,
      "outputs": []
    },
    {
      "cell_type": "markdown",
      "metadata": {
        "id": "3FBn4V5-Krkt"
      },
      "source": [
        "## Intersection over union\n",
        "\n",
        "Calculate the I-O-U metric to evaluate the model's performance."
      ]
    },
    {
      "cell_type": "code",
      "metadata": {
        "id": "YFqJxt3_VrCm"
      },
      "source": [
        "def intersection_over_union(pred_box, true_box):\n",
        "    xmin_pred, ymin_pred, xmax_pred, ymax_pred =  np.split(pred_box, 4, axis = 1)\n",
        "    xmin_true, ymin_true, xmax_true, ymax_true = np.split(true_box, 4, axis = 1)\n",
        "\n",
        "    smoothing_factor = 1e-10\n",
        "\n",
        "    xmin_overlap = np.maximum(xmin_pred, xmin_true)\n",
        "    xmax_overlap = np.minimum(xmax_pred, xmax_true)\n",
        "    ymin_overlap = np.maximum(ymin_pred, ymin_true)\n",
        "    ymax_overlap = np.minimum(ymax_pred, ymax_true)\n",
        "\n",
        "    pred_box_area = (xmax_pred - xmin_pred) * (ymax_pred - ymin_pred)\n",
        "    true_box_area = (xmax_true - xmin_true) * (ymax_true - ymin_true)\n",
        "\n",
        "    overlap_area = np.maximum((xmax_overlap - xmin_overlap), 0)  * np.maximum((ymax_overlap - ymin_overlap), 0)\n",
        "    union_area = (pred_box_area + true_box_area) - overlap_area\n",
        "\n",
        "    iou = (overlap_area + smoothing_factor) / (union_area + smoothing_factor)\n",
        "\n",
        "    return iou"
      ],
      "execution_count": 10,
      "outputs": []
    },
    {
      "cell_type": "markdown",
      "metadata": {
        "id": "9jFVovcUUVs1"
      },
      "source": [
        "### Visualize predictions\n",
        "The following code will make predictions and visualize both the classification and the predicted bounding boxes.\n",
        "- The true bounding box labels will be in green, and the model's predicted bounding boxes are in red.\n",
        "- The predicted number is shown below the image."
      ]
    },
    {
      "cell_type": "code",
      "metadata": {
        "id": "w12OId8Mz7dF",
        "colab": {
          "base_uri": "https://localhost:8080/",
          "height": 346
        },
        "outputId": "5c78031b-4ae9-400b-ce7b-9b79a98acfbe"
      },
      "source": [
        "# recognize validation digits\n",
        "predictions = model.predict(validation_digits, batch_size=64)\n",
        "predicted_labels = np.argmax(predictions[0], axis=1)\n",
        "\n",
        "predicted_bboxes = predictions[1]\n",
        "\n",
        "iou = intersection_over_union(predicted_bboxes, validation_bboxes)\n",
        "\n",
        "iou_threshold = 0.6\n",
        "\n",
        "print(\"Number of predictions where iou > threshold(%s): %s\" % (iou_threshold, (iou >= iou_threshold).sum()))\n",
        "print(\"Number of predictions where iou < threshold(%s): %s\" % (iou_threshold, (iou < iou_threshold).sum()))\n",
        "\n",
        "\n",
        "display_digits_with_boxes(validation_digits, predicted_labels, validation_labels, predicted_bboxes, validation_bboxes, iou, \"True and Predicted values\")"
      ],
      "execution_count": 11,
      "outputs": [
        {
          "output_type": "stream",
          "name": "stdout",
          "text": [
            "157/157 [==============================] - 5s 23ms/step\n",
            "Number of predictions where iou > threshold(0.6): 9495\n",
            "Number of predictions where iou < threshold(0.6): 505\n"
          ]
        },
        {
          "output_type": "display_data",
          "data": {
            "text/plain": [
              "<Figure size 2000x400 with 11 Axes>"
            ],
            "image/png": "[encoded data removed]"
          },
          "metadata": {}
        }
      ]
    },
    {
      "cell_type": "code",
      "metadata": {
        "id": "bx2kckHuBnwZ"
      },
      "source": [],
      "execution_count": null,
      "outputs": []
    }
  ]
}